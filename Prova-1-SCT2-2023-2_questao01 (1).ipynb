{
 "cells": [
  {
   "cell_type": "markdown",
   "metadata": {},
   "source": [
    "# Prova 1 2023-2\n",
    "# Larah\n",
    "# questao 1 a)\n"
   ]
  },
  {
   "cell_type": "code",
   "execution_count": 2,
   "metadata": {},
   "outputs": [
    {
     "name": "stdout",
     "output_type": "stream",
     "text": [
      "Collecting control\n",
      "  Downloading https://files.pythonhosted.org/packages/3c/cf/c38c97b5dc34f3afeda1196d6c96b591a1901c64a1f59c36ff883d951d42/control-0.9.2.tar.gz (398kB)\n",
      "Requirement already satisfied: numpy in c:\\programdata\\anaconda3\\lib\\site-packages (from control) (1.16.4)\n",
      "Requirement already satisfied: scipy in c:\\programdata\\anaconda3\\lib\\site-packages (from control) (1.2.1)\n",
      "Requirement already satisfied: matplotlib in c:\\programdata\\anaconda3\\lib\\site-packages (from control) (3.1.0)\n",
      "Requirement already satisfied: cycler>=0.10 in c:\\programdata\\anaconda3\\lib\\site-packages (from matplotlib->control) (0.10.0)\n",
      "Requirement already satisfied: kiwisolver>=1.0.1 in c:\\programdata\\anaconda3\\lib\\site-packages (from matplotlib->control) (1.1.0)\n",
      "Requirement already satisfied: pyparsing!=2.0.4,!=2.1.2,!=2.1.6,>=2.0.1 in c:\\programdata\\anaconda3\\lib\\site-packages (from matplotlib->control) (2.4.0)\n",
      "Requirement already satisfied: python-dateutil>=2.1 in c:\\programdata\\anaconda3\\lib\\site-packages (from matplotlib->control) (2.8.0)\n",
      "Requirement already satisfied: six in c:\\programdata\\anaconda3\\lib\\site-packages (from cycler>=0.10->matplotlib->control) (1.12.0)\n",
      "Requirement already satisfied: setuptools in c:\\programdata\\anaconda3\\lib\\site-packages (from kiwisolver>=1.0.1->matplotlib->control) (41.0.1)\n",
      "Building wheels for collected packages: control\n",
      "  Building wheel for control (setup.py): started\n",
      "  Building wheel for control (setup.py): finished with status 'done'\n",
      "  Stored in directory: C:\\Users\\Aluno\\AppData\\Local\\pip\\Cache\\wheels\\c9\\7c\\a5\\9e4bc5daf511c4d7f47235ba8e6f2f0f0ab267d43d4ad4d5e7\n",
      "Successfully built control\n",
      "Installing collected packages: control\n",
      "Successfully installed control-0.9.2\n"
     ]
    }
   ],
   "source": [
    "!pip install control"
   ]
  },
  {
   "cell_type": "code",
   "execution_count": 1,
   "metadata": {},
   "outputs": [],
   "source": [
    "import numpy as np\n",
    "import control\n",
    "import math\n",
    "import cmath\n",
    "import matplotlib.pyplot as plt\n",
    "\n",
    "T = .5             # período de amostragem\n",
    "kmax = 25"
   ]
  },
  {
   "cell_type": "code",
   "execution_count": 2,
   "metadata": {},
   "outputs": [
    {
     "data": {
      "text/latex": [
       "$$\\frac{2.5}{z - 1}\\quad dt = 0.5$$"
      ],
      "text/plain": [
       "TransferFunction(array([2.5]), array([ 1., -1.]), 0.5)"
      ]
     },
     "execution_count": 2,
     "metadata": {},
     "output_type": "execute_result"
    }
   ],
   "source": [
    "Fs = control.tf(5,[1, 0])\n",
    "Fs\n",
    "\n",
    "Fz = control.c2d(Fs, T)\n",
    "Fz"
   ]
  },
  {
   "cell_type": "code",
   "execution_count": 3,
   "metadata": {},
   "outputs": [
    {
     "data": {
      "text/latex": [
       "$$\\frac{z - 0.7838}{z - 0.1353}\\quad dt = 0.5$$"
      ],
      "text/plain": [
       "TransferFunction(array([ 1.        , -0.78383382]), array([ 1.        , -0.13533528]), 0.5)"
      ]
     },
     "execution_count": 3,
     "metadata": {},
     "output_type": "execute_result"
    }
   ],
   "source": [
    "Gs = control.tf([1, 1],[1, 4])\n",
    "Gs\n",
    "\n",
    "Gz = control.c2d(Gs, T)\n",
    "Gz"
   ]
  },
  {
   "cell_type": "code",
   "execution_count": 4,
   "metadata": {},
   "outputs": [
    {
     "data": {
      "text/latex": [
       "$$\\frac{0.5742 z - 0.3581}{z^2 - 1.135 z + 0.1353}\\quad dt = 0.5$$"
      ],
      "text/plain": [
       "TransferFunction(array([ 0.57424927, -0.35808309]), array([ 1.        , -1.13533528,  0.13533528]), 0.5)"
      ]
     },
     "execution_count": 4,
     "metadata": {},
     "output_type": "execute_result"
    }
   ],
   "source": [
    "GHs = control.tf([2, 2],[1, 4, 0])\n",
    "GHs\n",
    "\n",
    "GHz = control.c2d(GHs, T)\n",
    "GHz"
   ]
  },
  {
   "cell_type": "code",
   "execution_count": 7,
   "metadata": {},
   "outputs": [
    {
     "data": {
      "text/plain": [
       "[<matplotlib.lines.Line2D at 0x19f47a05b00>]"
      ]
     },
     "execution_count": 7,
     "metadata": {},
     "output_type": "execute_result"
    },
    {
     "data": {
      "image/png": "[encoded data removed]",
      "text/plain": [
       "<Figure size 432x288 with 1 Axes>"
      ]
     },
     "metadata": {
      "needs_background": "light"
     },
     "output_type": "display_data"
    }
   ],
   "source": [
    "t = T*np.arange(0, kmax);\n",
    "t\n",
    "\n",
    "r = np.ones(kmax)\n",
    "x = np.zeros(kmax)\n",
    "c = np.zeros(kmax)\n",
    "v = np.zeros(kmax)\n",
    "e = np.zeros(kmax)\n",
    "\n",
    "x[1] = 2.5*r[0] + x[0]\n",
    "v[1] = 0.5742*e[0] + 1.135*v[0]\n",
    "e[1] = x[1] - v[1]\n",
    "c[1] = e[1] - 0.7838*e[0] + 0.1353*c[0]\n",
    "\n",
    "for j in range(2, kmax):\n",
    "    x[j] = 2.5*r[j-1] + x[j-1]\n",
    "    v[j] = 0.5742*e[j-1] - 0.3581*e[j-2] + 1.135*v[j-1] - 0.1353*v[j-2]\n",
    "    e[j] = x[j] - v[j]\n",
    "    c[j] = e[j] - 0.7838*e[j-1] + 0.1353*c[j-1]\n",
    "    \n",
    "\n",
    "plt.plot(t,c)"
   ]
  },
  {
   "cell_type": "code",
   "execution_count": null,
   "metadata": {},
   "outputs": [],
   "source": []
  },
  {
   "cell_type": "code",
   "execution_count": null,
   "metadata": {},
   "outputs": [],
   "source": []
  }
 ],
 "metadata": {
  "kernelspec": {
   "display_name": "Python 3",
   "language": "python",
   "name": "python3"
  },
  "language_info": {
   "codemirror_mode": {
    "name": "ipython",
    "version": 3
   },
   "file_extension": ".py",
   "mimetype": "text/x-python",
   "name": "python",
   "nbconvert_exporter": "python",
   "pygments_lexer": "ipython3",
   "version": "3.7.3"
  }
 },
 "nbformat": 4,
 "nbformat_minor": 2
}
