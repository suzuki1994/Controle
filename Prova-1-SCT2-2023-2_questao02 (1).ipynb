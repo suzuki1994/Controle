{
 "cells": [
  {
   "cell_type": "markdown",
   "metadata": {},
   "source": [
    "# Prova 1 2023-2\n",
    "# Larah\n",
    "# questao 2\n"
   ]
  },
  {
   "cell_type": "code",
   "execution_count": 2,
   "metadata": {},
   "outputs": [
    {
     "name": "stdout",
     "output_type": "stream",
     "text": [
      "Collecting control\n",
      "  Downloading https://files.pythonhosted.org/packages/3c/cf/c38c97b5dc34f3afeda1196d6c96b591a1901c64a1f59c36ff883d951d42/control-0.9.2.tar.gz (398kB)\n",
      "Requirement already satisfied: numpy in c:\\programdata\\anaconda3\\lib\\site-packages (from control) (1.16.4)\n",
      "Requirement already satisfied: scipy in c:\\programdata\\anaconda3\\lib\\site-packages (from control) (1.2.1)\n",
      "Requirement already satisfied: matplotlib in c:\\programdata\\anaconda3\\lib\\site-packages (from control) (3.1.0)\n",
      "Requirement already satisfied: cycler>=0.10 in c:\\programdata\\anaconda3\\lib\\site-packages (from matplotlib->control) (0.10.0)\n",
      "Requirement already satisfied: kiwisolver>=1.0.1 in c:\\programdata\\anaconda3\\lib\\site-packages (from matplotlib->control) (1.1.0)\n",
      "Requirement already satisfied: pyparsing!=2.0.4,!=2.1.2,!=2.1.6,>=2.0.1 in c:\\programdata\\anaconda3\\lib\\site-packages (from matplotlib->control) (2.4.0)\n",
      "Requirement already satisfied: python-dateutil>=2.1 in c:\\programdata\\anaconda3\\lib\\site-packages (from matplotlib->control) (2.8.0)\n",
      "Requirement already satisfied: six in c:\\programdata\\anaconda3\\lib\\site-packages (from cycler>=0.10->matplotlib->control) (1.12.0)\n",
      "Requirement already satisfied: setuptools in c:\\programdata\\anaconda3\\lib\\site-packages (from kiwisolver>=1.0.1->matplotlib->control) (41.0.1)\n",
      "Building wheels for collected packages: control\n",
      "  Building wheel for control (setup.py): started\n",
      "  Building wheel for control (setup.py): finished with status 'done'\n",
      "  Stored in directory: C:\\Users\\Aluno\\AppData\\Local\\pip\\Cache\\wheels\\c9\\7c\\a5\\9e4bc5daf511c4d7f47235ba8e6f2f0f0ab267d43d4ad4d5e7\n",
      "Successfully built control\n",
      "Installing collected packages: control\n",
      "Successfully installed control-0.9.2\n"
     ]
    }
   ],
   "source": [
    "!pip install control"
   ]
  },
  {
   "cell_type": "code",
   "execution_count": 1,
   "metadata": {},
   "outputs": [],
   "source": [
    "import numpy as np\n",
    "import control\n",
    "import math\n",
    "import cmath\n",
    "import matplotlib.pyplot as plt\n"
   ]
  },
  {
   "cell_type": "code",
   "execution_count": 3,
   "metadata": {},
   "outputs": [
    {
     "name": "stdout",
     "output_type": "stream",
     "text": [
      "\n",
      "  0.1055\n",
      "----------\n",
      "z - 0.4724\n",
      "\n",
      "dt = 0.15\n",
      " (0.6188353589683089+0.32217239864789143j)\n"
     ]
    }
   ],
   "source": [
    "# periodo de amostragem\n",
    "T = 0.15;\n",
    "\n",
    "# função de transferência da planta\n",
    "Gp = control.tf(1,[1, 5]);\n",
    "Gpz = control.c2d(Gp,T);\n",
    "\n",
    "# polo desejado\n",
    "zeta = 0.6;\n",
    "wn = 4;\n",
    "s1 = -zeta*wn+1j*wn*(1-zeta**2)**.5;\n",
    "z1 = np.exp(s1*T);\n",
    "\n",
    "print(Gpz, z1)"
   ]
  },
  {
   "cell_type": "code",
   "execution_count": 6,
   "metadata": {},
   "outputs": [
    {
     "name": "stdout",
     "output_type": "stream",
     "text": [
      "[0.47236655+0.j]\n",
      "1 states have been removed from the model\n",
      "\n",
      "0.1055\n",
      "------\n",
      "z - 1\n",
      "\n",
      "dt = 0.15\n",
      "\n"
     ]
    }
   ],
   "source": [
    "# Controlador\n",
    "# Gd(z) = Kc*(z+alfa)/(z+beta1)(z+beta2)\n",
    "\n",
    "# Função de transferência de laço aberto\n",
    "# FTMA=Gdz*Gz\n",
    "\n",
    "# condição de angulo --> angulo(FTMA)=+-180 graus quando z =z1 \n",
    "# o ganho do controlador não interfere no angulo\n",
    "\n",
    "# dividindo a FTMA de forma diferente\n",
    "# FTMA = G1z*G2z\n",
    "# onde G1z=1/(z+beta)\n",
    "# e G2z=(z+alfa)*Gpz*(1/z-1)\n",
    "\n",
    "# considalfaerando que o zero do controlador (alfa) cancela um polo da planta\n",
    "polos = control.pole(Gpz);\n",
    "print(polos)\n",
    "alfa = -polos[0];\n",
    "\n",
    "G2z = control.minreal(control.tf([1, alfa],[1,-1],T)*Gpz);\n",
    "print(G2z)\n",
    "[[n2]],[[d2]] = control.tfdata(G2z);"
   ]
  },
  {
   "cell_type": "code",
   "execution_count": 7,
   "metadata": {},
   "outputs": [
    {
     "name": "stdout",
     "output_type": "stream",
     "text": [
      "alfa = \n",
      " (-0.4723665527410147-0j)\n",
      "beta = \n",
      " -0.23767071793661726\n"
     ]
    }
   ],
   "source": [
    "# fi2 é o ângulo de G2z quando z=z1\n",
    "fi2 = np.angle(np.polyval(n2,z1)/np.polyval(d2,z1));\n",
    "\n",
    "# fi1 é o ângulo de G1z quando z=z1\n",
    "fi1 = -np.pi-fi2;\n",
    "beta = (np.imag(z1)-np.real(z1)*np.tan(-fi1))/np.tan(-fi1);\n",
    "\n",
    "print(\"alfa = \\n\",alfa)\n",
    "print(\"beta = \\n\",beta)"
   ]
  },
  {
   "cell_type": "code",
   "execution_count": 11,
   "metadata": {},
   "outputs": [
    {
     "data": {
      "text/latex": [
       "$$\\frac{0.1055 z - 0.04985}{z^3 - 1.71 z^2 + 0.8223 z - 0.1123}\\quad dt = 0.15$$"
      ],
      "text/plain": [
       "TransferFunction(array([ 0.10552669+0.j, -0.04984728+0.j]), array([ 1.        , -1.71003727,  0.82230497, -0.1122677 ]), 0.15)"
      ]
     },
     "execution_count": 11,
     "metadata": {},
     "output_type": "execute_result"
    }
   ],
   "source": [
    "### modulo = 1\n",
    "Gdz = control.tf([1,alfa], [1, beta-1, -beta],T)\n",
    "FTMA = Gdz*Gpz\n",
    "FTMA\n"
   ]
  },
  {
   "cell_type": "code",
   "execution_count": 17,
   "metadata": {},
   "outputs": [
    {
     "name": "stdout",
     "output_type": "stream",
     "text": [
      "1 states have been removed from the model\n"
     ]
    },
    {
     "data": {
      "text/plain": [
       "0.3540547978676962"
      ]
     },
     "execution_count": 17,
     "metadata": {},
     "output_type": "execute_result"
    }
   ],
   "source": [
    "### modulo = 1\n",
    "Gdz = control.tf([1,alfa], [1, beta-1, -beta],T)\n",
    "FTMA = control.minreal(Gdz*Gpz)\n",
    "FTMA\n",
    "\n",
    "[[nf]],[[df]]= control.tfdata(FTMA);\n",
    "\n",
    "aux = (np.polyval(nf, z1)/np.polyval(df, z1))/T\n",
    "\n",
    "kc = 1/abs(aux)\n",
    "kc\n"
   ]
  },
  {
   "cell_type": "code",
   "execution_count": 36,
   "metadata": {},
   "outputs": [
    {
     "data": {
      "text/plain": [
       "(array([[0.23767072+0.00000000e+00j, 1.        +0.00000000e+00j],\n",
       "        [0.31080781+0.00000000e+00j, 0.9268629 -0.00000000e+00j],\n",
       "        [0.40794332+0.00000000e+00j, 0.8297274 -0.00000000e+00j],\n",
       "        [0.61883536+8.38286141e-09j, 0.61883536-8.38286144e-09j],\n",
       "        [0.61883536+7.70068864e-02j, 0.61883536-7.70068864e-02j],\n",
       "        [0.61883536+2.37351164e-01j, 0.61883536-2.37351164e-01j],\n",
       "        [0.61883536+3.26712549e-01j, 0.61883536-3.26712549e-01j],\n",
       "        [0.61883536+3.96417210e-01j, 0.61883536-3.96417210e-01j],\n",
       "        [0.61883536+4.55578884e-01j, 0.61883536-4.55578884e-01j],\n",
       "        [0.61883536+5.07895298e-01j, 0.61883536-5.07895298e-01j],\n",
       "        [0.61883536+5.55304555e-01j, 0.61883536-5.55304555e-01j],\n",
       "        [0.61883536+5.98973007e-01j, 0.61883536-5.98973007e-01j],\n",
       "        [0.61883536+6.39667240e-01j, 0.61883536-6.39667240e-01j],\n",
       "        [0.61883536+6.77923073e-01j, 0.61883536-6.77923073e-01j],\n",
       "        [0.61883536+7.14132486e-01j, 0.61883536-7.14132486e-01j],\n",
       "        [0.61883536+7.48592494e-01j, 0.61883536-7.48592494e-01j],\n",
       "        [0.61883536+7.81534540e-01j, 0.61883536-7.81534540e-01j],\n",
       "        [0.61883536+8.13143131e-01j, 0.61883536-8.13143131e-01j],\n",
       "        [0.61883536+8.43568175e-01j, 0.61883536-8.43568175e-01j],\n",
       "        [0.61883536+8.72933435e-01j, 0.61883536-8.72933435e-01j],\n",
       "        [0.61883536+9.01342496e-01j, 0.61883536-9.01342496e-01j],\n",
       "        [0.61883536+9.28883098e-01j, 0.61883536-9.28883098e-01j],\n",
       "        [0.61883536+9.55630329e-01j, 0.61883536-9.55630329e-01j],\n",
       "        [0.61883536+9.81649041e-01j, 0.61883536-9.81649041e-01j],\n",
       "        [0.61883536+1.00699571e+00j, 0.61883536-1.00699571e+00j],\n",
       "        [0.61883536+1.03171986e+00j, 0.61883536-1.03171986e+00j],\n",
       "        [0.61883536+1.05586523e+00j, 0.61883536-1.05586523e+00j],\n",
       "        [0.61883536+1.07947066e+00j, 0.61883536-1.07947066e+00j],\n",
       "        [0.61883536+1.10257082e+00j, 0.61883536-1.10257082e+00j],\n",
       "        [0.61883536+1.12519684e+00j, 0.61883536-1.12519684e+00j],\n",
       "        [0.61883536+1.14737677e+00j, 0.61883536-1.14737677e+00j],\n",
       "        [0.61883536+1.16913599e+00j, 0.61883536-1.16913599e+00j],\n",
       "        [0.61883536+1.19049757e+00j, 0.61883536-1.19049757e+00j],\n",
       "        [0.61883536+1.21148256e+00j, 0.61883536-1.21148256e+00j],\n",
       "        [0.61883536+1.23211018e+00j, 0.61883536-1.23211018e+00j],\n",
       "        [0.61883536+1.25239811e+00j, 0.61883536-1.25239811e+00j],\n",
       "        [0.61883536+1.27236258e+00j, 0.61883536-1.27236258e+00j],\n",
       "        [0.61883536+1.29201859e+00j, 0.61883536-1.29201859e+00j],\n",
       "        [0.61883536+1.31138002e+00j, 0.61883536-1.31138002e+00j],\n",
       "        [0.61883536+1.33045972e+00j, 0.61883536-1.33045972e+00j],\n",
       "        [0.61883536+1.34926965e+00j, 0.61883536-1.34926965e+00j],\n",
       "        [0.61883536+1.36782093e+00j, 0.61883536-1.36782093e+00j],\n",
       "        [0.61883536+1.38612396e+00j, 0.61883536-1.38612396e+00j],\n",
       "        [0.61883536+1.40418843e+00j, 0.61883536-1.40418843e+00j],\n",
       "        [0.61883536+1.42202343e+00j, 0.61883536-1.42202343e+00j],\n",
       "        [0.61883536+1.43963751e+00j, 0.61883536-1.43963751e+00j],\n",
       "        [0.61883536+1.45703867e+00j, 0.61883536-1.45703867e+00j],\n",
       "        [0.61883536+1.47423444e+00j, 0.61883536-1.47423444e+00j],\n",
       "        [0.61883536+1.49123194e+00j, 0.61883536-1.49123194e+00j],\n",
       "        [0.61883536+1.50803787e+00j, 0.61883536-1.50803787e+00j],\n",
       "        [0.61883536+1.52465856e+00j, 0.61883536-1.52465856e+00j],\n",
       "        [0.61883536+4.95514033e+00j, 0.61883536-4.95514033e+00j],\n",
       "        [0.61883536+1.57111978e+01j, 0.61883536-1.57111978e+01j],\n",
       "        [0.61883536+4.96963272e+01j, 0.61883536-4.96963272e+01j]]),\n",
       " array([0.00000000e+00, 4.77656553e-01, 9.55313106e-01, 1.37677477e+00,\n",
       "        1.43296966e+00, 1.91062621e+00, 2.38828276e+00, 2.86593932e+00,\n",
       "        3.34359587e+00, 3.82125242e+00, 4.29890897e+00, 4.77656553e+00,\n",
       "        5.25422208e+00, 5.73187863e+00, 6.20953519e+00, 6.68719174e+00,\n",
       "        7.16484829e+00, 7.64250484e+00, 8.12016140e+00, 8.59781795e+00,\n",
       "        9.07547450e+00, 9.55313106e+00, 1.00307876e+01, 1.05084442e+01,\n",
       "        1.09861007e+01, 1.14637573e+01, 1.19414138e+01, 1.24190704e+01,\n",
       "        1.28967269e+01, 1.33743835e+01, 1.38520400e+01, 1.43296966e+01,\n",
       "        1.48073531e+01, 1.52850097e+01, 1.57626662e+01, 1.62403228e+01,\n",
       "        1.67179793e+01, 1.71956359e+01, 1.76732925e+01, 1.81509490e+01,\n",
       "        1.86286056e+01, 1.91062621e+01, 1.95839187e+01, 2.00615752e+01,\n",
       "        2.05392318e+01, 2.10168883e+01, 2.14945449e+01, 2.19722014e+01,\n",
       "        2.24498580e+01, 2.29275145e+01, 2.34051711e+01, 2.34051711e+02,\n",
       "        2.34051711e+03, 2.34051711e+04]))"
      ]
     },
     "execution_count": 36,
     "metadata": {},
     "output_type": "execute_result"
    },
    {
     "data": {
      "image/png": "[encoded data removed]",
      "text/plain": [
       "<Figure size 432x288 with 1 Axes>"
      ]
     },
     "metadata": {
      "needs_background": "light"
     },
     "output_type": "display_data"
    }
   ],
   "source": [
    "control.rlocus(FTMA, xlim = [-5, 5], ylim=[-5, 5])"
   ]
  }
 ],
 "metadata": {
  "kernelspec": {
   "display_name": "Python 3",
   "language": "python",
   "name": "python3"
  },
  "language_info": {
   "codemirror_mode": {
    "name": "ipython",
    "version": 3
   },
   "file_extension": ".py",
   "mimetype": "text/x-python",
   "name": "python",
   "nbconvert_exporter": "python",
   "pygments_lexer": "ipython3",
   "version": "3.7.3"
  }
 },
 "nbformat": 4,
 "nbformat_minor": 2
}
